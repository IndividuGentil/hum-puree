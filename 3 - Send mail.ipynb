{
 "cells": [
  {
   "cell_type": "code",
   "execution_count": 14,
   "metadata": {},
   "outputs": [],
   "source": [
    "#https://realpython.com/python-send-email/#sending-fancy-emails\n",
    "\n",
    "import smtplib, email\n",
    "\n",
    "from email import encoders\n",
    "from email.mime.base import MIMEBase\n",
    "from email.mime.text import MIMEText\n",
    "from email.mime.multipart import MIMEMultipart\n",
    "import pandas as pd\n",
    "from datetime import date"
   ]
  },
  {
   "cell_type": "markdown",
   "metadata": {},
   "source": [
    "## Connexion au compte Gmail"
   ]
  },
  {
   "cell_type": "code",
   "execution_count": 2,
   "metadata": {},
   "outputs": [
    {
     "data": {
      "text/plain": [
       "(235, b'2.7.0 Accepted')"
      ]
     },
     "execution_count": 2,
     "metadata": {},
     "output_type": "execute_result"
    }
   ],
   "source": [
    "# Mail and password to connect the SMTP server\n",
    "sender_email = \"zakary.yousfi@gmail.com\"\n",
    "password = \"\"\n",
    "\n",
    "# Set up the SMTP server\n",
    "s = smtplib.SMTP(host='smtp.gmail.com', port=587)\n",
    "s.starttls()\n",
    "s.login(sender_email, password)"
   ]
  },
  {
   "cell_type": "markdown",
   "metadata": {},
   "source": [
    "## Traitement de la BDD"
   ]
  },
  {
   "cell_type": "code",
   "execution_count": 3,
   "metadata": {},
   "outputs": [],
   "source": [
    "#import des contacts de la semaine\n",
    "\n",
    "d = {'entreprise': [\"DylanCorp.\",\"ZakCorp.\"], 'contact': [\"Dylan Anton\",\"Zakary Yousfi\"], 'mail': [\"dylan_a94@hotmail.fr\",\"zakary.zy@gmail.com\"], 'presentation': [\"Monsieur Anton,\",\"Monsieur Yousfi,\"], 'entreprise contactee': [0,0], \"date d'envoi\" : ['','']}\n",
    "df = pd.DataFrame(data=d)"
   ]
  },
  {
   "cell_type": "code",
   "execution_count": 18,
   "metadata": {},
   "outputs": [],
   "source": [
    "#import de la derniere base a jour\n",
    "#df1 = pd.read_excel('df_final_correction.xlsx', index_col= 0)"
   ]
  },
  {
   "cell_type": "markdown",
   "metadata": {},
   "source": [
    "## Creation du Mail"
   ]
  },
  {
   "cell_type": "code",
   "execution_count": 4,
   "metadata": {},
   "outputs": [
    {
     "name": "stderr",
     "output_type": "stream",
     "text": [
      "C:\\Users\\zakar\\anaconda3\\lib\\site-packages\\ipykernel_launcher.py:111: SettingWithCopyWarning: \n",
      "A value is trying to be set on a copy of a slice from a DataFrame\n",
      "\n",
      "See the caveats in the documentation: https://pandas.pydata.org/pandas-docs/stable/user_guide/indexing.html#returning-a-view-versus-a-copy\n",
      "C:\\Users\\zakar\\anaconda3\\lib\\site-packages\\pandas\\core\\indexing.py:670: SettingWithCopyWarning: \n",
      "A value is trying to be set on a copy of a slice from a DataFrame\n",
      "\n",
      "See the caveats in the documentation: https://pandas.pydata.org/pandas-docs/stable/user_guide/indexing.html#returning-a-view-versus-a-copy\n",
      "  self._setitem_with_indexer(indexer, value)\n"
     ]
    },
    {
     "name": "stdout",
     "output_type": "stream",
     "text": [
      "Mail sent to dylan_a94@hotmail.fr\n",
      "Mail sent to zakary.zy@gmail.com\n"
     ]
    }
   ],
   "source": [
    "for i in range(0,2):\n",
    "    if df['entreprise contactee'][i] == 0:\n",
    "        \n",
    "        # Create mail\n",
    "        message = MIMEMultipart(\"alternative\")\n",
    "\n",
    "        # Import attachment in same directory as script\n",
    "\n",
    "        CV = \"CV YOUSFI ZAKARY DEV UNITY.pdf\" \n",
    "        LM = \"LM YOUSFI ZAKARY DEV UNITY.pdf\"\n",
    "\n",
    "        #Open the CV an LM\n",
    "\n",
    "        with open(CV, \"rb\") as attachment1:\n",
    "            # Add file as application/octet-stream\n",
    "            # Email client can usually download this automatically as attachment\n",
    "            part1 = MIMEBase(\"application\", \"octet-stream\")\n",
    "            part1.set_payload(attachment1.read())\n",
    "\n",
    "        with open(LM, \"rb\") as attachment2:\n",
    "            # Add file as application/octet-stream\n",
    "            # Email client can usually download this automatically as attachment\n",
    "            part2 = MIMEBase(\"application\", \"octet-stream\")\n",
    "            part2.set_payload(attachment2.read())\n",
    "    \n",
    "        # Encode file in ASCII characters to send by email    \n",
    "        encoders.encode_base64(part1)\n",
    "        encoders.encode_base64(part2)\n",
    "\n",
    "        # Add header as key/value pair to attachment part\n",
    "        part1.add_header(\n",
    "            \"Content-Disposition\",\n",
    "            f\"attachment; filename= {CV}\",\n",
    "        )\n",
    "        part2.add_header(\n",
    "            \"Content-Disposition\",\n",
    "            f\"attachment; filename= {LM}\",\n",
    "        )\n",
    "\n",
    "        nom_presentation = str(df['presentation'][i])\n",
    "        nom_entreprise = str(df['entreprise'][i])\n",
    "        receiver_email = str(df['mail'][i])\n",
    "\n",
    "        #subject of the mail\n",
    "        subject = \"Zakary - alternant développeur Unity\"\n",
    "\n",
    "        # Create the plain-text and HTML version of your message\n",
    "        text = \"\"\"\\\n",
    "        {}\n",
    "\n",
    "\n",
    "        Je me présente Zakary YOUSFI et je vous propose ma candidature pour une alternance en tant que développeur Unity.\n",
    "\n",
    "        J'ai de l'expérience dans le domaine de la programmation, acquise en autodidacte et au cours de mon Master Data Analyst. Si un profil créatif et dynamique vous intéresse, vous pouvez visiter mon site internet https://zakary.co.\n",
    "\n",
    "        Vous trouverez en pièce jointe mon CV et ma lettre de motivation. Je serais ravi d'échanger avec vous afin de détailler mon parcours et d’évoquer ma candidature chez {}.\n",
    "\n",
    "\n",
    "        Bien cordialement,\n",
    "\n",
    "\n",
    "        Zakary Yousfi\n",
    "\n",
    "        +33 6 67 99 12 43\n",
    "\n",
    "\n",
    "\n",
    "        Aide exceptionnelle aux employeurs qui recrutent en apprentissage: https://travail-emploi.gouv.fr/formation-professionnelle/entreprise-et-alternance/aide-exceptionnelle-apprentissage\n",
    "        \"\"\".format(nom_presentation,nom_entreprise)\n",
    "\n",
    "        html = \"\"\"\\\n",
    "        <html>\n",
    "          <body>\n",
    "            <p>{}</p>\n",
    "            <p>Je me pr&eacute;sente Zakary YOUSFI et je vous propose ma candidature pour une alternance en tant que d&eacute;veloppeur Unity.</p>\n",
    "            <p>J&apos;ai de l&apos;exp&eacute;rience dans le domaine de la programmation, acquise en autodidacte et au cours de mon Master Data Analyst. Si un profil cr&eacute;atif et dynamique vous int&eacute;resse, vous pouvez visiter mon site internet <a href=\"https://zakary.co\" rel=\"noopener noreferrer\" target=\"_blank\">https://zakary.co</a>.</p>\n",
    "            <p>Vous trouverez en pi&egrave;ce jointe mon CV et ma lettre de motivation. Je serais ravi d&apos;&eacute;changer avec vous afin de d&eacute;tailler mon parcours et d&rsquo;&eacute;voquer ma candidature chez {}.</p>\n",
    "            <p>Bien cordialement,</p>\n",
    "            <p><br></p>\n",
    "            <p>Zakary Yousfi</p>\n",
    "            <p>+33 6 67 99 12 43</p>\n",
    "            <p><br></p>\n",
    "            <p>Aide exceptionnelle aux employeurs qui recrutent en apprentissage: <a href=\"https://travail-emploi.gouv.fr/formation-professionnelle/entreprise-et-alternance/aide-exceptionnelle-apprentissage\" rel=\"noopener noreferrer\" target=\"_blank\">https://travail-emploi.gouv.fr/formation-professionnelle/entreprise-et-alternance/aide-exceptionnelle-apprentissage</a></p>\n",
    "            </body>\n",
    "        </html>\n",
    "        \"\"\".format(nom_presentation,nom_entreprise)\n",
    "\n",
    "        #add attachment\n",
    "        message.attach(part1)\n",
    "        message.attach(part2)\n",
    "\n",
    "        #Objet\n",
    "        message[\"Subject\"] = subject\n",
    "\n",
    "        #De\n",
    "        message[\"From\"] = sender_email\n",
    "\n",
    "        #A\n",
    "        message[\"To\"] = receiver_email\n",
    "\n",
    "        #Add plain text\n",
    "        message.attach(MIMEText(text, \"plain\"))\n",
    "        # Add HTML\n",
    "        message.attach(MIMEText(html, \"html\"))\n",
    "\n",
    "        #send mail\n",
    "        s.sendmail(sender_email, receiver_email, message.as_string())\n",
    "\n",
    "        #save data\n",
    "        #date d'envoi\n",
    "        df['entreprise contactee'][i] = str(date.today())\n",
    "        #variable entreprise contactee = 1\n",
    "        df['date d\\'envoi'][i] = 1\n",
    "\n",
    "        #print message \n",
    "#        print(\"Mail sent to \" + receiver_email)"
   ]
  },
  {
   "cell_type": "code",
   "execution_count": 15,
   "metadata": {},
   "outputs": [],
   "source": [
    "#mise a jour du fichier excel (changer le nom du fichier pour qu'il soit le meme que le fichier importer)\n",
    "#df.to_excel('postulobot - {}.xlsx'.format(str(date.today())))"
   ]
  }
 ],
 "metadata": {
  "kernelspec": {
   "display_name": "Python 3",
   "language": "python",
   "name": "python3"
  },
  "language_info": {
   "codemirror_mode": {
    "name": "ipython",
    "version": 3
   },
   "file_extension": ".py",
   "mimetype": "text/x-python",
   "name": "python",
   "nbconvert_exporter": "python",
   "pygments_lexer": "ipython3",
   "version": "3.7.6"
  }
 },
 "nbformat": 4,
 "nbformat_minor": 4
}
